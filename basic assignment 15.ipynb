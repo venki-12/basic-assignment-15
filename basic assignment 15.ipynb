{
 "cells": [
  {
   "cell_type": "code",
   "execution_count": 1,
   "metadata": {},
   "outputs": [
    {
     "name": "stdout",
     "output_type": "stream",
     "text": [
      "3600\n"
     ]
    }
   ],
   "source": [
    "#1.How many seconds are in an hour? Use the interactive interpreter as a calculator and multiply the \n",
    "#number of seconds in a minute (60) by the number of minutes in an hour (also 60).\n",
    "sec_per_min = 60\n",
    "min_per_hour = 60\n",
    "seconds_in_an_hour = sec_per_min * min_per_hour\n",
    "print(seconds_in_an_hour)\n",
    "seconds_in_an_hour = 3600"
   ]
  },
  {
   "cell_type": "code",
   "execution_count": 2,
   "metadata": {},
   "outputs": [],
   "source": [
    "#Assign the result from the previous task (seconds in an hour) to a variable called seconds_per_hour.\n",
    "seconds_per_hour = seconds_in_an_hour"
   ]
  },
  {
   "cell_type": "code",
   "execution_count": 3,
   "metadata": {},
   "outputs": [
    {
     "name": "stdout",
     "output_type": "stream",
     "text": [
      "seconds per day is 86400\n"
     ]
    }
   ],
   "source": [
    "#How many seconds do you think there are in a day? Make use of the varia#vbles seconds per hour and minutes per hour.\n",
    "sec_per_day=(24 * seconds_per_hour)  \n",
    "print(f'seconds per day is {sec_per_day}')"
   ]
  },
  {
   "cell_type": "code",
   "execution_count": 4,
   "metadata": {},
   "outputs": [],
   "source": [
    "#Calculate seconds per day again, but this time save the result in a variable called seconds_per_day\n",
    "seconds_per_day = sec_per_day"
   ]
  },
  {
   "cell_type": "code",
   "execution_count": 5,
   "metadata": {},
   "outputs": [
    {
     "data": {
      "text/plain": [
       "24.0"
      ]
     },
     "execution_count": 5,
     "metadata": {},
     "output_type": "execute_result"
    }
   ],
   "source": [
    "#Divide seconds_per_day by seconds_per_hour. Use floating-point (/) division.\n",
    "seconds_per_day / seconds_per_hour"
   ]
  },
  {
   "cell_type": "code",
   "execution_count": 6,
   "metadata": {},
   "outputs": [
    {
     "data": {
      "text/plain": [
       "24"
      ]
     },
     "execution_count": 6,
     "metadata": {},
     "output_type": "execute_result"
    }
   ],
   "source": [
    "#Divide seconds_per_day by seconds_per_hour, using integer (//) division. Did this number agree\n",
    "#with the floating-point value from the previous question, aside from the final .0?\n",
    "seconds_per_day // seconds_per_hour\n",
    "# yes agree result is 24 in both cases but type of value was different float and int. "
   ]
  },
  {
   "cell_type": "code",
   "execution_count": 7,
   "metadata": {},
   "outputs": [],
   "source": []
  }
 ],
 "metadata": {
  "kernelspec": {
   "display_name": "Python 3",
   "language": "python",
   "name": "python3"
  },
  "language_info": {
   "codemirror_mode": {
    "name": "ipython",
    "version": 3
   },
   "file_extension": ".py",
   "mimetype": "text/x-python",
   "name": "python",
   "nbconvert_exporter": "python",
   "pygments_lexer": "ipython3",
   "version": "3.8.5"
  }
 },
 "nbformat": 4,
 "nbformat_minor": 4
}
